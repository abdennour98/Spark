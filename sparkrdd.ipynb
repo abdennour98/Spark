{
 "cells": [
  {
   "cell_type": "code",
   "execution_count": 24,
   "id": "4b199c69",
   "metadata": {},
   "outputs": [],
   "source": [
    "import pyspark\n",
    "from pyspark.sql import SparkSession\n",
    "from pyspark.sql import types\n",
    "import pandas as pd"
   ]
  },
  {
   "cell_type": "code",
   "execution_count": 2,
   "id": "d1db403c",
   "metadata": {},
   "outputs": [
    {
     "name": "stdout",
     "output_type": "stream",
     "text": [
      "23/04/04 22:19:29 WARN Utils: Your hostname, smarteez-HP-ProBook-440-G8-Notebook-PC resolves to a loopback address: 127.0.1.1; using 192.168.1.12 instead (on interface wlp0s20f3)\n",
      "23/04/04 22:19:29 WARN Utils: Set SPARK_LOCAL_IP if you need to bind to another address\n"
     ]
    },
    {
     "name": "stderr",
     "output_type": "stream",
     "text": [
      "Setting default log level to \"WARN\".\n",
      "To adjust logging level use sc.setLogLevel(newLevel). For SparkR, use setLogLevel(newLevel).\n"
     ]
    },
    {
     "name": "stdout",
     "output_type": "stream",
     "text": [
      "23/04/04 22:19:30 WARN NativeCodeLoader: Unable to load native-hadoop library for your platform... using builtin-java classes where applicable\n"
     ]
    }
   ],
   "source": [
    "spark=SparkSession.builder.\\\n",
    "      master(\"local[*]\").\\\n",
    "      appName(\"sparkRdd\").\\\n",
    "     getOrCreate()"
   ]
  },
  {
   "cell_type": "code",
   "execution_count": 3,
   "id": "5d854462",
   "metadata": {},
   "outputs": [],
   "source": [
    "green_schema=types.StructType([\\\n",
    "    types.StructField('VendorID', types.IntegerType(), True),\\\n",
    "    types.StructField('lpep_pickup_datetime', types.TimestampType(), True),\\\n",
    "    types.StructField('lpep_dropoff_datetime', types.TimestampType(), True),\\\n",
    "    types.StructField('store_and_fwd_flag', types.StringType(), True),\\\n",
    "    types.StructField('RatecodeID', types.IntegerType(), True),\\\n",
    "    types.StructField('PULocationID', types.IntegerType(), True),\\\n",
    "    types.StructField('DOLocationID', types.IntegerType(), True),\\\n",
    "    types.StructField('passenger_count', types.IntegerType(), True),\\\n",
    "    types.StructField('trip_distance', types.DoubleType(), True),\\\n",
    "    types.StructField('fare_amount', types.DoubleType(), True),\\\n",
    "    types.StructField('extra', types.DoubleType(), True),\\\n",
    "    types.StructField('mta_tax', types.DoubleType(), True),\\\n",
    "    types.StructField('tip_amount', types.DoubleType(), True),\\\n",
    "    types.StructField('tolls_amount', types.DoubleType(), True),\\\n",
    "    types.StructField('ehail_fee', types.DoubleType(), True),\\\n",
    "    types.StructField('improvement_surcharge', types.DoubleType(), True),\\\n",
    "    types.StructField('total_amount', types.DoubleType(), True),\\\n",
    "    types.StructField('payment_type', types.IntegerType(), True),\\\n",
    "    types.StructField('trip_type', types.IntegerType(), True),\\\n",
    "    types.StructField('congestion_surcharge', types.DoubleType(), True)])"
   ]
  },
  {
   "cell_type": "code",
   "execution_count": 4,
   "id": "23b43fbe",
   "metadata": {},
   "outputs": [],
   "source": [
    "df_green=spark.read.option('header','true').schema(green_schema).csv(\"data/raw/green/2020/*/*\")"
   ]
  },
  {
   "cell_type": "markdown",
   "id": "ddd511d3",
   "metadata": {},
   "source": [
    "```\n",
    "  SELECT\n",
    "    date_trunc(\"hour\",pickup_datetime) As hour,\n",
    "    PULocationID as zone,\n",
    "    SUM(total_amount) as green_ammounts,\n",
    "    COUNT(1) as green_number_records\n",
    "    \n",
    "    FROM green\n",
    "    \n",
    "    WHERE pickup_datetime >= \"2020-01-01 00:00:00\"\n",
    "    GROUP BY 1,2\n",
    "    ORDER BY 3 DESC```"
   ]
  },
  {
   "cell_type": "code",
   "execution_count": 31,
   "id": "30b46fbc",
   "metadata": {},
   "outputs": [],
   "source": [
    "rdd_green=df_green.select(\"lpep_pickup_datetime\",\"PULocationID\",\"total_amount\").rdd"
   ]
  },
  {
   "cell_type": "code",
   "execution_count": 6,
   "id": "9f87e91f",
   "metadata": {},
   "outputs": [],
   "source": [
    "from datetime import datetime"
   ]
  },
  {
   "cell_type": "code",
   "execution_count": 7,
   "id": "fb83bb3c",
   "metadata": {},
   "outputs": [],
   "source": [
    "start=datetime(2020,1,1)\n",
    "def filteroutliers(row):\n",
    "    return row.lpep_pickup_datetime>start"
   ]
  },
  {
   "cell_type": "code",
   "execution_count": 8,
   "id": "3fda965e",
   "metadata": {},
   "outputs": [],
   "source": [
    "def transform(row):\n",
    "    return ((row.lpep_pickup_datetime.replace(minute=0,second=0,microsecond=0),row.PULocationID),(row.total_amount,1))"
   ]
  },
  {
   "cell_type": "code",
   "execution_count": 9,
   "id": "202b45c0",
   "metadata": {},
   "outputs": [],
   "source": [
    "def reduce(left_value,right_value):\n",
    "    left_value_amount,left_value_count=left_value\n",
    "    right_value_amount,right_value_count=right_value\n",
    "    output_ammount=left_value_amount+right_value_amount\n",
    "    output_count=left_value_count+right_value_count\n",
    "    return (output_ammount,output_count)"
   ]
  },
  {
   "cell_type": "code",
   "execution_count": 10,
   "id": "d414e911",
   "metadata": {},
   "outputs": [],
   "source": [
    "from collections import namedtuple"
   ]
  },
  {
   "cell_type": "code",
   "execution_count": 11,
   "id": "22de16da",
   "metadata": {},
   "outputs": [],
   "source": [
    "revenue_tuple=namedtuple('revenue_row',['hour','zone','revenue','count'])"
   ]
  },
  {
   "cell_type": "code",
   "execution_count": 12,
   "id": "021a52d9",
   "metadata": {},
   "outputs": [],
   "source": [
    "def unwrap(row):\n",
    "    return revenue_tuple(hour=row[0][0],zone=row[0][1],revenue=row[1][0],count=row[1][1])"
   ]
  },
  {
   "cell_type": "code",
   "execution_count": 13,
   "id": "f98722b6",
   "metadata": {},
   "outputs": [],
   "source": [
    "schema=types.StructType([\n",
    "    types.StructField('hour',   types.TimestampType(), True),\n",
    "    types.StructField('zone',   types.LongType(), True), \n",
    "    types.StructField('revenue',types.DoubleType(), True), \n",
    "    types.StructField('count',  types.LongType(), True)])"
   ]
  },
  {
   "cell_type": "code",
   "execution_count": 14,
   "id": "a1e518c9",
   "metadata": {},
   "outputs": [],
   "source": [
    "rdd_to_df=rdd.filter(filteroutliers).map(transform).reduceByKey(reduce).map(unwrap).toDF(schema)"
   ]
  },
  {
   "cell_type": "code",
   "execution_count": 23,
   "id": "67e03f6c",
   "metadata": {},
   "outputs": [
    {
     "name": "stdout",
     "output_type": "stream",
     "text": [
      "+-------------------+----+------------------+-----+\n",
      "|               hour|zone|           revenue|count|\n",
      "+-------------------+----+------------------+-----+\n",
      "|2020-01-01 00:00:00|  35|            129.96|    5|\n",
      "|2020-01-01 00:00:00| 256|296.62000000000006|   13|\n",
      "|2020-01-01 00:00:00| 255|            666.34|   28|\n",
      "|2020-01-01 00:00:00|  24|              87.6|    3|\n",
      "|2020-01-01 00:00:00| 244|183.57999999999998|   12|\n",
      "|2020-01-01 01:00:00| 244|255.85000000000002|   20|\n",
      "|2020-01-01 00:00:00| 146|             99.37|    6|\n",
      "|2020-01-01 00:00:00| 193|               8.3|    1|\n",
      "|2020-01-01 00:00:00| 157|             52.86|    2|\n",
      "|2020-01-01 01:00:00|  75|292.89000000000004|   21|\n",
      "|2020-01-01 00:00:00| 177|            274.95|   10|\n",
      "|2020-01-01 01:00:00|  41| 819.4999999999998|   61|\n",
      "|2020-01-01 00:00:00| 198|            195.11|    5|\n",
      "|2020-01-01 00:00:00| 254| 73.82000000000001|    3|\n",
      "|2020-01-01 01:00:00| 264|             71.96|    4|\n",
      "|2020-01-01 00:00:00| 106|             10.56|    1|\n",
      "|2020-01-01 01:00:00| 223|177.67000000000002|   16|\n",
      "|2020-01-01 01:00:00| 188|181.03000000000003|    7|\n",
      "|2020-01-01 01:00:00| 189|            189.69|    9|\n",
      "|2020-01-01 01:00:00|  97|             526.5|   22|\n",
      "+-------------------+----+------------------+-----+\n",
      "only showing top 20 rows\n",
      "\n"
     ]
    }
   ],
   "source": [
    "rdd_to_df.show()"
   ]
  },
  {
   "cell_type": "code",
   "execution_count": 40,
   "id": "fc9153c5",
   "metadata": {},
   "outputs": [],
   "source": [
    "def apply_some_stuff(partition):\n",
    "    \n",
    "    df=pd.DataFrame(partition,columns=[\"lpep_pickup_datetime\",\"PULocationID\",\"total_amount\"])\n",
    "    for row in df.itertuples():\n",
    "        yield row"
   ]
  },
  {
   "cell_type": "code",
   "execution_count": 47,
   "id": "8be475ca",
   "metadata": {},
   "outputs": [
    {
     "name": "stderr",
     "output_type": "stream",
     "text": [
      "[Stage 25:>                                                         (0 + 1) / 1]\r"
     ]
    },
    {
     "name": "stdout",
     "output_type": "stream",
     "text": [
      "+------------+\n",
      "|total_amount|\n",
      "+------------+\n",
      "|        4.81|\n",
      "|       24.36|\n",
      "|       15.34|\n",
      "|       25.05|\n",
      "|        11.3|\n",
      "|        14.8|\n",
      "|        12.3|\n",
      "|        21.8|\n",
      "|         6.8|\n",
      "|         6.8|\n",
      "+------------+\n",
      "only showing top 10 rows\n",
      "\n"
     ]
    },
    {
     "name": "stderr",
     "output_type": "stream",
     "text": [
      "\r",
      "                                                                                \r"
     ]
    }
   ],
   "source": [
    "rdd_green.mapPartitions(apply_some_stuff).toDF().drop('Index').select('total_amount').show(10)"
   ]
  },
  {
   "cell_type": "code",
   "execution_count": null,
   "id": "7ba58c31",
   "metadata": {},
   "outputs": [],
   "source": [
    " "
   ]
  },
  {
   "cell_type": "code",
   "execution_count": null,
   "id": "0155163f",
   "metadata": {},
   "outputs": [],
   "source": []
  }
 ],
 "metadata": {
  "kernelspec": {
   "display_name": "Python 3 (ipykernel)",
   "language": "python",
   "name": "python3"
  },
  "language_info": {
   "codemirror_mode": {
    "name": "ipython",
    "version": 3
   },
   "file_extension": ".py",
   "mimetype": "text/x-python",
   "name": "python",
   "nbconvert_exporter": "python",
   "pygments_lexer": "ipython3",
   "version": "3.9.13"
  }
 },
 "nbformat": 4,
 "nbformat_minor": 5
}
