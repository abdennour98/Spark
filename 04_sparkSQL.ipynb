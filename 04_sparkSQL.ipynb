{
 "cells": [
  {
   "cell_type": "code",
   "execution_count": 1,
   "id": "fbda1bed",
   "metadata": {},
   "outputs": [],
   "source": [
    "import pyspark\n",
    "from pyspark.sql import SparkSession\n",
    "from pyspark.sql import types\n",
    "from pyspark.sql import functions as F"
   ]
  },
  {
   "cell_type": "code",
   "execution_count": 2,
   "id": "532bb12d",
   "metadata": {},
   "outputs": [
    {
     "name": "stdout",
     "output_type": "stream",
     "text": [
      "23/03/31 22:10:38 WARN Utils: Your hostname, smarteez-HP-ProBook-440-G8-Notebook-PC resolves to a loopback address: 127.0.1.1; using 192.168.11.130 instead (on interface wlp0s20f3)\n",
      "23/03/31 22:10:38 WARN Utils: Set SPARK_LOCAL_IP if you need to bind to another address\n"
     ]
    },
    {
     "name": "stderr",
     "output_type": "stream",
     "text": [
      "Setting default log level to \"WARN\".\n",
      "To adjust logging level use sc.setLogLevel(newLevel). For SparkR, use setLogLevel(newLevel).\n"
     ]
    },
    {
     "name": "stdout",
     "output_type": "stream",
     "text": [
      "23/03/31 22:10:38 WARN NativeCodeLoader: Unable to load native-hadoop library for your platform... using builtin-java classes where applicable\n"
     ]
    }
   ],
   "source": [
    "spark=SparkSession.builder.\\\n",
    "      master(\"local[*]\").\\\n",
    "      appName(\"sparkSQL\").\\\n",
    "     getOrCreate()"
   ]
  },
  {
   "cell_type": "code",
   "execution_count": 3,
   "id": "b8895e0b",
   "metadata": {},
   "outputs": [],
   "source": [
    "yellow_schema=types.StructType([\n",
    "        types.StructField('VendorID', types.IntegerType(), True),\\\n",
    "        types.StructField('tpep_pickup_datetime', types.TimestampType(), True),\\\n",
    "        types.StructField('tpep_dropoff_datetime', types.TimestampType(), True),\\\n",
    "        types.StructField('passenger_count', types.IntegerType(), True),\\\n",
    "        types.StructField('trip_distance', types.DoubleType(), True),\\\n",
    "        types.StructField('RatecodeID', types.IntegerType(), True),\\\n",
    "        types.StructField('store_and_fwd_flag', types.StringType(), True),\\\n",
    "        types.StructField('PULocationID', types.IntegerType(), True),\\\n",
    "        types.StructField('DOLocationID', types.IntegerType(), True),\\\n",
    "        types.StructField('payment_type', types.IntegerType(), True),\\\n",
    "        types.StructField('fare_amount', types.DoubleType(), True),\\\n",
    "        types.StructField('extra', types.DoubleType(), True),\\\n",
    "        types.StructField('mta_tax', types.DoubleType(), True),\\\n",
    "        types.StructField('tip_amount', types.DoubleType(), True),\\\n",
    "        types.StructField('tolls_amount', types.DoubleType(), True),\\\n",
    "        types.StructField('improvement_surcharge', types.DoubleType(), True),\\\n",
    "        types.StructField('total_amount', types.DoubleType(), True),\\\n",
    "        types.StructField('congestion_surcharge', types.DoubleType(), True)])"
   ]
  },
  {
   "cell_type": "code",
   "execution_count": 4,
   "id": "fae8a7c2",
   "metadata": {},
   "outputs": [],
   "source": [
    "df_yellow=spark.read.option('header','true').schema(yellow_schema).csv(\"data/raw/yellow/2020/*/*\")"
   ]
  },
  {
   "cell_type": "code",
   "execution_count": 5,
   "id": "8ad032d5",
   "metadata": {},
   "outputs": [
    {
     "name": "stdout",
     "output_type": "stream",
     "text": [
      "root\n",
      " |-- VendorID: integer (nullable = true)\n",
      " |-- tpep_pickup_datetime: timestamp (nullable = true)\n",
      " |-- tpep_dropoff_datetime: timestamp (nullable = true)\n",
      " |-- passenger_count: integer (nullable = true)\n",
      " |-- trip_distance: double (nullable = true)\n",
      " |-- RatecodeID: integer (nullable = true)\n",
      " |-- store_and_fwd_flag: string (nullable = true)\n",
      " |-- PULocationID: integer (nullable = true)\n",
      " |-- DOLocationID: integer (nullable = true)\n",
      " |-- payment_type: integer (nullable = true)\n",
      " |-- fare_amount: double (nullable = true)\n",
      " |-- extra: double (nullable = true)\n",
      " |-- mta_tax: double (nullable = true)\n",
      " |-- tip_amount: double (nullable = true)\n",
      " |-- tolls_amount: double (nullable = true)\n",
      " |-- improvement_surcharge: double (nullable = true)\n",
      " |-- total_amount: double (nullable = true)\n",
      " |-- congestion_surcharge: double (nullable = true)\n",
      "\n"
     ]
    }
   ],
   "source": [
    "df_yellow.printSchema()"
   ]
  },
  {
   "cell_type": "code",
   "execution_count": 6,
   "id": "62b8d695",
   "metadata": {},
   "outputs": [],
   "source": [
    "green_schema=types.StructType([\\\n",
    "    types.StructField('VendorID', types.IntegerType(), True),\\\n",
    "    types.StructField('lpep_pickup_datetime', types.TimestampType(), True),\\\n",
    "    types.StructField('lpep_dropoff_datetime', types.TimestampType(), True),\\\n",
    "    types.StructField('store_and_fwd_flag', types.StringType(), True),\\\n",
    "    types.StructField('RatecodeID', types.IntegerType(), True),\\\n",
    "    types.StructField('PULocationID', types.IntegerType(), True),\\\n",
    "    types.StructField('DOLocationID', types.IntegerType(), True),\\\n",
    "    types.StructField('passenger_count', types.IntegerType(), True),\\\n",
    "    types.StructField('trip_distance', types.DoubleType(), True),\\\n",
    "    types.StructField('fare_amount', types.DoubleType(), True),\\\n",
    "    types.StructField('extra', types.DoubleType(), True),\\\n",
    "    types.StructField('mta_tax', types.DoubleType(), True),\\\n",
    "    types.StructField('tip_amount', types.DoubleType(), True),\\\n",
    "    types.StructField('tolls_amount', types.DoubleType(), True),\\\n",
    "    types.StructField('ehail_fee', types.DoubleType(), True),\\\n",
    "    types.StructField('improvement_surcharge', types.DoubleType(), True),\\\n",
    "    types.StructField('total_amount', types.DoubleType(), True),\\\n",
    "    types.StructField('payment_type', types.IntegerType(), True),\\\n",
    "    types.StructField('trip_type', types.IntegerType(), True),\\\n",
    "    types.StructField('congestion_surcharge', types.DoubleType(), True)])"
   ]
  },
  {
   "cell_type": "code",
   "execution_count": 7,
   "id": "de269fc5",
   "metadata": {},
   "outputs": [],
   "source": [
    "df_green=spark.read.option('header','true').schema(green_schema).csv(\"data/raw/green/2020/*/*\")"
   ]
  },
  {
   "cell_type": "code",
   "execution_count": 8,
   "id": "ac6aa18f",
   "metadata": {},
   "outputs": [
    {
     "data": {
      "text/plain": [
       "StructType([StructField('VendorID', IntegerType(), True), StructField('lpep_pickup_datetime', TimestampType(), True), StructField('lpep_dropoff_datetime', TimestampType(), True), StructField('store_and_fwd_flag', StringType(), True), StructField('RatecodeID', IntegerType(), True), StructField('PULocationID', IntegerType(), True), StructField('DOLocationID', IntegerType(), True), StructField('passenger_count', IntegerType(), True), StructField('trip_distance', DoubleType(), True), StructField('fare_amount', DoubleType(), True), StructField('extra', DoubleType(), True), StructField('mta_tax', DoubleType(), True), StructField('tip_amount', DoubleType(), True), StructField('tolls_amount', DoubleType(), True), StructField('ehail_fee', DoubleType(), True), StructField('improvement_surcharge', DoubleType(), True), StructField('total_amount', DoubleType(), True), StructField('payment_type', IntegerType(), True), StructField('trip_type', IntegerType(), True), StructField('congestion_surcharge', DoubleType(), True)])"
      ]
     },
     "execution_count": 8,
     "metadata": {},
     "output_type": "execute_result"
    }
   ],
   "source": [
    "df_green.schema"
   ]
  },
  {
   "cell_type": "code",
   "execution_count": 9,
   "id": "a1687c5e",
   "metadata": {},
   "outputs": [
    {
     "data": {
      "text/plain": [
       "['VendorID',\n",
       " 'lpep_pickup_datetime',\n",
       " 'lpep_dropoff_datetime',\n",
       " 'store_and_fwd_flag',\n",
       " 'RatecodeID',\n",
       " 'PULocationID',\n",
       " 'DOLocationID',\n",
       " 'passenger_count',\n",
       " 'trip_distance',\n",
       " 'fare_amount',\n",
       " 'extra',\n",
       " 'mta_tax',\n",
       " 'tip_amount',\n",
       " 'tolls_amount',\n",
       " 'ehail_fee',\n",
       " 'improvement_surcharge',\n",
       " 'total_amount',\n",
       " 'payment_type',\n",
       " 'trip_type',\n",
       " 'congestion_surcharge']"
      ]
     },
     "execution_count": 9,
     "metadata": {},
     "output_type": "execute_result"
    }
   ],
   "source": [
    "df_green.columns"
   ]
  },
  {
   "cell_type": "code",
   "execution_count": 10,
   "id": "bbe5e569",
   "metadata": {},
   "outputs": [],
   "source": [
    "df_green=df_green\\\n",
    "    .withColumnRenamed(\"lpep_pickup_datetime\",\"pickup_datetime\")\\\n",
    "    .withColumnRenamed(\"lpep_dropoff_datetime\",\"dropoff_datetime\")"
   ]
  },
  {
   "cell_type": "code",
   "execution_count": 11,
   "id": "63c4b4ee",
   "metadata": {},
   "outputs": [],
   "source": [
    "df_yellow=df_yellow\\\n",
    "    .withColumnRenamed(\"tpep_pickup_datetime\",\"pickup_datetime\")\\\n",
    "    .withColumnRenamed(\"tpep_dropoff_datetime\",\"dropoff_datetime\")"
   ]
  },
  {
   "cell_type": "code",
   "execution_count": 12,
   "id": "c14f1bc4",
   "metadata": {},
   "outputs": [],
   "source": [
    "common_columns=[col for col in df_green.columns if col in df_yellow.columns]"
   ]
  },
  {
   "cell_type": "code",
   "execution_count": 13,
   "id": "7000a9b1",
   "metadata": {},
   "outputs": [],
   "source": [
    "df_green_selected=df_green.select(common_columns)\\\n",
    "         .withColumn('service_type',F.lit('green'))"
   ]
  },
  {
   "cell_type": "code",
   "execution_count": 14,
   "id": "83578829",
   "metadata": {},
   "outputs": [],
   "source": [
    "df_yellow_selected=df_yellow.select(common_columns)\\\n",
    "         .withColumn('service_type',F.lit('yellow'))"
   ]
  },
  {
   "cell_type": "code",
   "execution_count": 15,
   "id": "fd51d89e",
   "metadata": {},
   "outputs": [],
   "source": [
    "df_trip_data=df_yellow_selected.unionAll(df_green_selected)"
   ]
  },
  {
   "cell_type": "code",
   "execution_count": 16,
   "id": "4c0e17bc",
   "metadata": {},
   "outputs": [
    {
     "name": "stdout",
     "output_type": "stream",
     "text": [
      "root\n",
      " |-- VendorID: integer (nullable = true)\n",
      " |-- pickup_datetime: timestamp (nullable = true)\n",
      " |-- dropoff_datetime: timestamp (nullable = true)\n",
      " |-- store_and_fwd_flag: string (nullable = true)\n",
      " |-- RatecodeID: integer (nullable = true)\n",
      " |-- PULocationID: integer (nullable = true)\n",
      " |-- DOLocationID: integer (nullable = true)\n",
      " |-- passenger_count: integer (nullable = true)\n",
      " |-- trip_distance: double (nullable = true)\n",
      " |-- fare_amount: double (nullable = true)\n",
      " |-- extra: double (nullable = true)\n",
      " |-- mta_tax: double (nullable = true)\n",
      " |-- tip_amount: double (nullable = true)\n",
      " |-- tolls_amount: double (nullable = true)\n",
      " |-- improvement_surcharge: double (nullable = true)\n",
      " |-- total_amount: double (nullable = true)\n",
      " |-- payment_type: integer (nullable = true)\n",
      " |-- congestion_surcharge: double (nullable = true)\n",
      " |-- service_type: string (nullable = false)\n",
      "\n"
     ]
    }
   ],
   "source": [
    "df_trip_data.printSchema()"
   ]
  },
  {
   "cell_type": "code",
   "execution_count": 17,
   "id": "83ca02fe",
   "metadata": {},
   "outputs": [
    {
     "name": "stderr",
     "output_type": "stream",
     "text": [
      "[Stage 0:================================================>        (12 + 2) / 14]\r"
     ]
    },
    {
     "name": "stdout",
     "output_type": "stream",
     "text": [
      "+------------+--------+\n",
      "|service_type|   count|\n",
      "+------------+--------+\n",
      "|      yellow|24648499|\n",
      "|       green| 1734051|\n",
      "+------------+--------+\n",
      "\n"
     ]
    },
    {
     "name": "stderr",
     "output_type": "stream",
     "text": [
      "\r",
      "                                                                                \r"
     ]
    }
   ],
   "source": [
    "df_trip_data.groupBy('service_type').count().show()"
   ]
  },
  {
   "cell_type": "code",
   "execution_count": 18,
   "id": "c202ed5a",
   "metadata": {},
   "outputs": [
    {
     "name": "stderr",
     "output_type": "stream",
     "text": [
      "/home/smarteez/anaconda3/lib/python3.9/site-packages/pyspark/sql/dataframe.py:229: FutureWarning: Deprecated in 2.0, use createOrReplaceTempView instead.\n",
      "  warnings.warn(\"Deprecated in 2.0, use createOrReplaceTempView instead.\", FutureWarning)\n"
     ]
    }
   ],
   "source": [
    "df_trip_data.registerTempTable('trips_data')"
   ]
  },
  {
   "cell_type": "code",
   "execution_count": 29,
   "id": "613c6a97",
   "metadata": {},
   "outputs": [],
   "source": [
    "df_result=spark.sql(\"\"\"\n",
    "          select \n",
    "    -- Reveneue grouping \n",
    "    PULocationID as zone,\n",
    "    date_trunc('month', pickup_datetime) as revenue_month, \n",
    "    --Note: For BQ use instead: date_trunc(pickup_datetime, month) as revenue_month, \n",
    "      \n",
    "    service_type, \n",
    "\n",
    "    -- Revenue calculation \n",
    "    sum(fare_amount) as revenue_monthly_fare,\n",
    "    sum(extra) as revenue_monthly_extra,\n",
    "    sum(mta_tax) as revenue_monthly_mta_tax,\n",
    "    sum(tip_amount) as revenue_monthly_tip_amount,\n",
    "    sum(tolls_amount) as revenue_monthly_tolls_amount,\n",
    "    sum(improvement_surcharge) as revenue_monthly_improvement_surcharge,\n",
    "    sum(total_amount) as revenue_monthly_total_amount,\n",
    "    sum(congestion_surcharge) as revenue_monthly_congestion_surcharge,\n",
    "\n",
    "    -- Additional calculations\n",
    "    avg(passenger_count) as avg_montly_passenger_count,\n",
    "    avg(trip_distance) as avg_montly_trip_distance\n",
    "\n",
    "    from trips_data\n",
    "    group by 1,2,3\n",
    "    \"\"\")"
   ]
  },
  {
   "cell_type": "code",
   "execution_count": 30,
   "id": "da4850b7",
   "metadata": {},
   "outputs": [
    {
     "name": "stderr",
     "output_type": "stream",
     "text": [
      "[Stage 12:================================================>       (12 + 2) / 14]\r"
     ]
    },
    {
     "name": "stdout",
     "output_type": "stream",
     "text": [
      "+----+-------------------+------------+--------------------+---------------------+-----------------------+--------------------------+----------------------------+-------------------------------------+----------------------------+------------------------------------+--------------------------+------------------------+\n",
      "|zone|      revenue_month|service_type|revenue_monthly_fare|revenue_monthly_extra|revenue_monthly_mta_tax|revenue_monthly_tip_amount|revenue_monthly_tolls_amount|revenue_monthly_improvement_surcharge|revenue_monthly_total_amount|revenue_monthly_congestion_surcharge|avg_montly_passenger_count|avg_montly_trip_distance|\n",
      "+----+-------------------+------------+--------------------+---------------------+-----------------------+--------------------------+----------------------------+-------------------------------------+----------------------------+------------------------------------+--------------------------+------------------------+\n",
      "| 232|2020-01-01 00:00:00|      yellow|  126597.31999999867|              10436.5|                 3972.5|         16813.02999999993|          1099.3099999999995|                    2448.600000000024|          173676.36000000112|                             18085.0|        1.5602495775380216|      3.0658564139941826|\n",
      "| 140|2020-01-01 00:00:00|      yellow|  1389253.7699999982|   140140.90000000005|                62306.5|         240176.3599999909|          16111.130000000781|                   37546.199999990255|          2093140.6100018797|                            307625.0|        1.4962935597086249|       2.351489023605404|\n",
      "| 193|2019-12-01 00:00:00|      yellow|                2.51|                  0.5|                    0.5|                       0.0|                         0.0|                                  0.6|                        9.11|                                 5.0|                       2.5|                     0.0|\n",
      "| 148|2020-01-01 00:00:00|      yellow|   936652.3299999996|    93703.65000000002|                37747.5|        168196.04999999888|          4407.7799999999725|                   22782.599999968126|          1391277.2100009087|                           188083.75|        1.5862376185734501|       2.848263482441447|\n",
      "| 146|2020-01-01 00:00:00|      yellow|   68527.79999999992|              3523.45|                 2552.0|         7274.890000000001|           529.7000000000003|                   1558.1999999998552|           87228.29000000547|                              4852.5|        1.4310077519379845|      2.9420311609348184|\n",
      "| 186|2020-02-01 00:00:00|      yellow|   2666210.860000013|   254244.99999999988|               111631.8|        481351.53000000457|           39788.65000000094|                    67274.40000027859|          3987213.1899928115|                            557047.5|         1.471607964334559|      2.2091214895267495|\n",
      "| 132|2019-12-01 00:00:00|      yellow|               155.5|                  1.0|                    1.5|                     29.08|                         0.0|                   0.8999999999999999|          187.98000000000002|                                 0.0|                       1.0|                   18.73|\n",
      "| 235|2020-01-01 00:00:00|      yellow|  13303.320000000023|                819.0|                  204.5|                     67.34|           660.6600000000003|                   148.49999999999991|           15218.61999999999|                                22.5|        1.3060344827586208|       6.234233870967739|\n",
      "|  78|2020-01-01 00:00:00|      yellow|   9826.420000000011|                611.0|                  158.5|                     51.85|           706.6000000000004|                   112.79999999999929|           11535.91999999999|                                20.0|        1.2937853107344632|       5.799283819628646|\n",
      "|  50|2020-02-01 00:00:00|      yellow|   564432.0299999985|    59145.80000000002|                24992.0|         98317.90000000347|           8616.769999999979|                   15100.199999986757|           851216.6500002736|                           124112.25|          1.50035690208986|      2.3935550775545553|\n",
      "| 165|2020-01-01 00:00:00|      yellow|  12318.269999999977|               913.75|                  199.5|        125.25999999999999|           640.7800000000003|                   151.20000000000002|          14372.410000000044|                                10.0|        1.5126582278481013|       4.270784313725489|\n",
      "| 237|2009-01-01 00:00:00|      yellow|                14.5|                  0.0|                    1.0|                       0.0|                         0.0|                                  0.6|                        21.1|                                 5.0|                       1.0|                    1.34|\n",
      "| 264|2009-01-01 00:00:00|      yellow|                12.5|                  0.5|                    1.0|                       0.0|                         0.0|                                  0.6|                        17.1|                                 2.5|                       1.0|      1.4149999999999998|\n",
      "| 135|2020-01-01 00:00:00|      yellow|  15418.269999999993|               504.75|                  166.5|                    468.57|          1052.8200000000002|                   116.99999999999925|          17795.159999999985|                                82.5|        1.1846153846153846|       9.004481927710843|\n",
      "| 132|2008-12-01 00:00:00|      yellow|               214.5|                  1.0|                    2.5|                     12.28|                       12.24|                                  1.5|          251.52000000000004|                                 7.5|                       2.0|      15.219999999999999|\n",
      "|  13|2020-01-01 00:00:00|      yellow|   797628.2199999994|    57428.90000000001|                25124.5|         149964.9900000011|          18284.090000000364|                   15237.899999986417|          1148327.5000004065|                            125386.5|        1.5437514727829706|       4.117475564609311|\n",
      "| 231|2019-12-01 00:00:00|      yellow|                93.0|                  2.5|                    2.5|                      22.2|                         0.0|                                  1.5|                       134.2|                                12.5|                       2.4|                   5.156|\n",
      "| 144|2020-01-01 00:00:00|      yellow|            672276.2|    72774.60000000002|                28861.5|        121139.64000000441|           2915.229999999986|                   17400.299999981176|          1009791.9700004618|                            143867.5|        1.5966400989418716|      2.4742511183093923|\n",
      "|  51|2020-01-01 00:00:00|      yellow|  22720.589999999967|               1392.0|                  264.0|                    116.77|          1381.5599999999947|                   188.40000000000143|          26074.169999999955|                                 5.0|        1.5862068965517242|        8.42585987261146|\n",
      "|  86|2020-01-01 00:00:00|      yellow|   9282.549999999997|               312.25|                   81.0|                       7.0|           326.9500000000001|                    55.79999999999983|          10065.550000000012|                                 0.0|        1.9390243902439024|      10.119193548387093|\n",
      "+----+-------------------+------------+--------------------+---------------------+-----------------------+--------------------------+----------------------------+-------------------------------------+----------------------------+------------------------------------+--------------------------+------------------------+\n",
      "only showing top 20 rows\n",
      "\n"
     ]
    },
    {
     "name": "stderr",
     "output_type": "stream",
     "text": [
      "\r",
      "[Stage 12:====================================================>   (13 + 1) / 14]\r",
      "\r",
      "                                                                                \r"
     ]
    }
   ],
   "source": [
    "df_result.show()"
   ]
  },
  {
   "cell_type": "code",
   "execution_count": 31,
   "id": "9e33e845",
   "metadata": {},
   "outputs": [
    {
     "name": "stderr",
     "output_type": "stream",
     "text": [
      "                                                                                \r"
     ]
    }
   ],
   "source": [
    "df_result.write.parquet(\"data/report/revenue/\",mode=\"overwrite\")"
   ]
  },
  {
   "cell_type": "code",
   "execution_count": 32,
   "id": "8d1e69a8",
   "metadata": {},
   "outputs": [
    {
     "name": "stderr",
     "output_type": "stream",
     "text": [
      "/home/smarteez/anaconda3/lib/python3.9/site-packages/pyspark/sql/dataframe.py:229: FutureWarning: Deprecated in 2.0, use createOrReplaceTempView instead.\n",
      "  warnings.warn(\"Deprecated in 2.0, use createOrReplaceTempView instead.\", FutureWarning)\n"
     ]
    }
   ],
   "source": [
    "df_green.registerTempTable('green')"
   ]
  },
  {
   "cell_type": "code",
   "execution_count": 33,
   "id": "b12bf948",
   "metadata": {},
   "outputs": [
    {
     "data": {
      "text/plain": [
       "['VendorID',\n",
       " 'pickup_datetime',\n",
       " 'dropoff_datetime',\n",
       " 'store_and_fwd_flag',\n",
       " 'RatecodeID',\n",
       " 'PULocationID',\n",
       " 'DOLocationID',\n",
       " 'passenger_count',\n",
       " 'trip_distance',\n",
       " 'fare_amount',\n",
       " 'extra',\n",
       " 'mta_tax',\n",
       " 'tip_amount',\n",
       " 'tolls_amount',\n",
       " 'ehail_fee',\n",
       " 'improvement_surcharge',\n",
       " 'total_amount',\n",
       " 'payment_type',\n",
       " 'trip_type',\n",
       " 'congestion_surcharge']"
      ]
     },
     "execution_count": 33,
     "metadata": {},
     "output_type": "execute_result"
    }
   ],
   "source": [
    "df_green.columns"
   ]
  },
  {
   "cell_type": "code",
   "execution_count": 63,
   "id": "0c7763ae",
   "metadata": {},
   "outputs": [],
   "source": [
    "df_green_revenue=spark.sql(\"\"\"\n",
    "    SELECT\n",
    "    date_trunc(\"hour\",pickup_datetime) As hour,\n",
    "    PULocationID as zone,\n",
    "    SUM(total_amount) as green_ammounts,\n",
    "    COUNT(1) as green_number_records\n",
    "    \n",
    "    FROM green\n",
    "    \n",
    "    WHERE pickup_datetime >= \"2020-01-01 00:00:00\"\n",
    "    GROUP BY 1,2\n",
    "    ORDER BY 3 DESC\n",
    "\"\"\")"
   ]
  },
  {
   "cell_type": "code",
   "execution_count": 64,
   "id": "a1ec8dad",
   "metadata": {},
   "outputs": [
    {
     "name": "stderr",
     "output_type": "stream",
     "text": [
      "[Stage 81:=================================================>        (6 + 1) / 7]\r"
     ]
    },
    {
     "name": "stdout",
     "output_type": "stream",
     "text": [
      "+-------------------+----+------------------+--------------------+\n",
      "|               hour|zone|    green_ammounts|green_number_records|\n",
      "+-------------------+----+------------------+--------------------+\n",
      "|2020-02-04 16:00:00|  75|2281.7499999999977|                 123|\n",
      "|2020-01-08 16:00:00|  75| 2245.769999999999|                 115|\n",
      "|2020-01-23 16:00:00|  75|           2225.64|                 123|\n",
      "|2020-02-28 17:00:00|  75|2124.8499999999976|                 118|\n",
      "|2020-01-28 16:00:00|  75|2099.3899999999976|                 130|\n",
      "|2020-01-09 17:00:00|  75|2098.5399999999972|                 122|\n",
      "|2020-01-21 16:00:00|  75|2084.5099999999984|                 114|\n",
      "|2020-02-06 16:00:00|  75| 2066.149999999998|                 123|\n",
      "|2020-02-27 17:00:00|  75|2018.7499999999984|                 141|\n",
      "|2020-01-13 17:00:00|  75|2015.6699999999983|                 127|\n",
      "|2020-01-29 16:00:00|  75|1999.0399999999972|                 121|\n",
      "|2020-02-27 18:00:00|  75|1985.0299999999982|                 129|\n",
      "|2020-01-31 16:00:00|  75| 1977.569999999998|                 119|\n",
      "|2020-02-27 16:00:00|  75|1977.3499999999979|                 121|\n",
      "|2020-02-25 16:00:00|  75|1946.5499999999984|                 116|\n",
      "|2020-02-12 16:00:00|  75|1940.8999999999985|                 112|\n",
      "|2020-01-27 16:00:00|  75|1938.4299999999987|                 123|\n",
      "|2020-02-06 17:00:00|  75| 1925.609999999998|                 105|\n",
      "|2020-01-22 16:00:00|  75|1924.3199999999981|                 124|\n",
      "|2020-01-29 18:00:00|  75|1871.7399999999982|                 114|\n",
      "+-------------------+----+------------------+--------------------+\n",
      "only showing top 20 rows\n",
      "\n"
     ]
    },
    {
     "name": "stderr",
     "output_type": "stream",
     "text": [
      "\r",
      "                                                                                \r"
     ]
    }
   ],
   "source": [
    "df_green_revenue.show()"
   ]
  },
  {
   "cell_type": "code",
   "execution_count": 65,
   "id": "35528f2c",
   "metadata": {},
   "outputs": [
    {
     "name": "stderr",
     "output_type": "stream",
     "text": [
      "                                                                                \r"
     ]
    },
    {
     "name": "stdout",
     "output_type": "stream",
     "text": [
      "23/04/01 15:54:27 WARN MemoryManager: Total allocation exceeds 95.00% (1,020,054,720 bytes) of heap memory\n",
      "Scaling row group sizes to 95.00% for 8 writers\n"
     ]
    }
   ],
   "source": [
    "df_green_revenue.repartition(10).write.parquet('data/green/report/',mode='overwrite')"
   ]
  },
  {
   "cell_type": "code",
   "execution_count": 66,
   "id": "8da4809c",
   "metadata": {},
   "outputs": [
    {
     "name": "stderr",
     "output_type": "stream",
     "text": [
      "/home/smarteez/anaconda3/lib/python3.9/site-packages/pyspark/sql/dataframe.py:229: FutureWarning: Deprecated in 2.0, use createOrReplaceTempView instead.\n",
      "  warnings.warn(\"Deprecated in 2.0, use createOrReplaceTempView instead.\", FutureWarning)\n"
     ]
    }
   ],
   "source": [
    "df_yellow.registerTempTable(\"yellow\")"
   ]
  },
  {
   "cell_type": "code",
   "execution_count": 67,
   "id": "ffa6ff53",
   "metadata": {},
   "outputs": [],
   "source": [
    "df_yellow_revenue=spark.sql(\"\"\"\n",
    "    SELECT\n",
    "    date_trunc(\"hour\",pickup_datetime) As hour,\n",
    "    PULocationID as zone,\n",
    "    SUM(total_amount) as yellow_ammounts,\n",
    "    COUNT(1) as yellow_number_records\n",
    "    \n",
    "    FROM yellow\n",
    "    \n",
    "    WHERE pickup_datetime >= \"2020-01-01 00:00:00\"\n",
    "    GROUP BY 1,2\n",
    "    ORDER BY 3 DESC\n",
    "\"\"\")"
   ]
  },
  {
   "cell_type": "code",
   "execution_count": 68,
   "id": "1d688080",
   "metadata": {},
   "outputs": [
    {
     "name": "stderr",
     "output_type": "stream",
     "text": [
      "                                                                                \r"
     ]
    },
    {
     "name": "stdout",
     "output_type": "stream",
     "text": [
      "23/04/01 15:55:16 WARN MemoryManager: Total allocation exceeds 95.00% (1,020,054,720 bytes) of heap memory\n",
      "Scaling row group sizes to 95.00% for 8 writers\n"
     ]
    }
   ],
   "source": [
    "df_yellow_revenue.repartition(10).write.parquet('data/yellow/report/',mode='overwrite')"
   ]
  },
  {
   "cell_type": "code",
   "execution_count": 69,
   "id": "7ea7921a",
   "metadata": {},
   "outputs": [
    {
     "name": "stderr",
     "output_type": "stream",
     "text": [
      "[Stage 108:================================================>        (6 + 1) / 7]\r"
     ]
    },
    {
     "name": "stdout",
     "output_type": "stream",
     "text": [
      "+-------------------+----+------------------+---------------------+\n",
      "|               hour|zone|   yellow_ammounts|yellow_number_records|\n",
      "+-------------------+----+------------------+---------------------+\n",
      "|2020-03-10 09:00:00| 193|1000026.4500000001|                    3|\n",
      "|2020-10-07 10:00:00|  41|         998602.27|                   21|\n",
      "|2020-03-04 17:00:00| 166| 673021.1200000009|                  117|\n",
      "|2020-05-04 20:00:00| 142|429733.24999999994|                   12|\n",
      "|2020-12-26 13:00:00| 170|399255.83999999997|                   57|\n",
      "|2020-08-14 17:00:00| 142|188859.90999999983|                   79|\n",
      "|2020-11-17 06:00:00|  41|151590.91999999995|                    8|\n",
      "|2020-01-05 21:00:00| 132| 40236.33999999998|                  725|\n",
      "|2020-01-26 20:00:00| 132|38895.609999999935|                  708|\n",
      "|2020-01-20 18:00:00| 132| 38346.72999999995|                  693|\n",
      "|2020-01-12 22:00:00| 132|37748.569999999905|                  711|\n",
      "|2020-01-20 16:00:00| 132| 37534.08999999995|                  638|\n",
      "|2020-01-20 22:00:00| 132| 37197.59999999993|                  652|\n",
      "|2020-01-20 20:00:00| 132| 37018.44999999994|                  687|\n",
      "|2020-01-05 20:00:00| 132| 36932.81999999993|                  688|\n",
      "|2020-01-20 21:00:00| 132| 36152.19999999989|                  647|\n",
      "|2020-03-02 16:00:00| 132| 36131.56999999985|                  609|\n",
      "|2020-01-27 16:00:00| 132| 35936.08999999984|                  588|\n",
      "|2020-01-10 16:00:00| 132| 35720.94999999982|                  584|\n",
      "|2020-02-23 20:00:00| 132|35705.199999999815|                  655|\n",
      "+-------------------+----+------------------+---------------------+\n",
      "only showing top 20 rows\n",
      "\n"
     ]
    },
    {
     "name": "stderr",
     "output_type": "stream",
     "text": [
      "\r",
      "                                                                                \r"
     ]
    }
   ],
   "source": [
    "df_yellow_revenue.show()"
   ]
  },
  {
   "cell_type": "code",
   "execution_count": 70,
   "id": "95f68062",
   "metadata": {},
   "outputs": [],
   "source": [
    "df_join=df_yellow_revenue.join(df_green_revenue,on=[\"hour\",\"zone\"],how=\"outer\")"
   ]
  },
  {
   "cell_type": "code",
   "execution_count": 71,
   "id": "829f9d9d",
   "metadata": {},
   "outputs": [
    {
     "name": "stderr",
     "output_type": "stream",
     "text": [
      "[Stage 111:========================================>                (5 + 2) / 7]\r"
     ]
    },
    {
     "name": "stdout",
     "output_type": "stream",
     "text": [
      "+-------------------+----+------------------+---------------------+------------------+--------------------+\n",
      "|               hour|zone|   yellow_ammounts|yellow_number_records|    green_ammounts|green_number_records|\n",
      "+-------------------+----+------------------+---------------------+------------------+--------------------+\n",
      "|2020-01-01 00:00:00|  22|              null|                 null|              15.8|                   1|\n",
      "|2020-01-01 00:00:00|  25| 324.3500000000001|                   16|             531.0|                  26|\n",
      "|2020-01-01 00:00:00|  55|              null|                 null|            129.29|                   4|\n",
      "|2020-01-01 00:00:00|  56|              18.1|                    2|             99.69|                   3|\n",
      "|2020-01-01 00:00:00|  60|57.620000000000005|                    2|            160.04|                   6|\n",
      "|2020-01-01 00:00:00|  61|            146.64|                    3|            526.71|                  17|\n",
      "|2020-01-01 00:00:00|  65| 409.3500000000001|                   19|            199.49|                  10|\n",
      "|2020-01-01 00:00:00|  71|              null|                 null|              23.8|                   1|\n",
      "|2020-01-01 00:00:00|  78|              null|                 null|             34.46|                   2|\n",
      "|2020-01-01 00:00:00|  88| 823.7999999999997|                   36|              null|                null|\n",
      "|2020-01-01 00:00:00| 106|              null|                 null|             10.56|                   1|\n",
      "|2020-01-01 00:00:00| 112|119.47999999999999|                    8|312.26000000000005|                  18|\n",
      "|2020-01-01 00:00:00| 113|3984.3200000000083|                  220|              null|                null|\n",
      "|2020-01-01 00:00:00| 148| 6790.150000000019|                  371|              null|                null|\n",
      "|2020-01-01 00:00:00| 161| 9410.210000000003|                  488|              null|                null|\n",
      "|2020-01-01 00:00:00| 162| 4622.290000000009|                  268|              null|                null|\n",
      "|2020-01-01 00:00:00| 185|             69.51|                    2|              null|                null|\n",
      "|2020-01-01 00:00:00| 190|54.099999999999994|                    3|             61.97|                   4|\n",
      "|2020-01-01 00:00:00| 194|            148.71|                    2|              null|                null|\n",
      "|2020-01-01 00:00:00| 225|             74.07|                    3|251.92000000000002|                  13|\n",
      "+-------------------+----+------------------+---------------------+------------------+--------------------+\n",
      "only showing top 20 rows\n",
      "\n"
     ]
    },
    {
     "name": "stderr",
     "output_type": "stream",
     "text": [
      "\r",
      "[Stage 111:================================================>        (6 + 1) / 7]\r",
      "\r",
      "                                                                                \r"
     ]
    }
   ],
   "source": [
    "df_join.show()"
   ]
  },
  {
   "cell_type": "code",
   "execution_count": null,
   "id": "ba90ae5d",
   "metadata": {},
   "outputs": [],
   "source": []
  }
 ],
 "metadata": {
  "kernelspec": {
   "display_name": "Python 3 (ipykernel)",
   "language": "python",
   "name": "python3"
  },
  "language_info": {
   "codemirror_mode": {
    "name": "ipython",
    "version": 3
   },
   "file_extension": ".py",
   "mimetype": "text/x-python",
   "name": "python",
   "nbconvert_exporter": "python",
   "pygments_lexer": "ipython3",
   "version": "3.9.13"
  }
 },
 "nbformat": 4,
 "nbformat_minor": 5
}
