{
 "cells": [
  {
   "cell_type": "code",
   "execution_count": 1,
   "id": "04836d32",
   "metadata": {},
   "outputs": [],
   "source": [
    "import pyspark\n",
    "from pyspark.sql import SparkSession"
   ]
  },
  {
   "cell_type": "code",
   "execution_count": 2,
   "id": "7bd48f9c",
   "metadata": {},
   "outputs": [
    {
     "name": "stdout",
     "output_type": "stream",
     "text": [
      "23/03/27 22:57:20 WARN Utils: Your hostname, smarteez-HP-ProBook-440-G8-Notebook-PC resolves to a loopback address: 127.0.1.1; using 192.168.1.12 instead (on interface wlp0s20f3)\n",
      "23/03/27 22:57:20 WARN Utils: Set SPARK_LOCAL_IP if you need to bind to another address\n"
     ]
    },
    {
     "name": "stderr",
     "output_type": "stream",
     "text": [
      "Setting default log level to \"WARN\".\n",
      "To adjust logging level use sc.setLogLevel(newLevel). For SparkR, use setLogLevel(newLevel).\n"
     ]
    },
    {
     "name": "stdout",
     "output_type": "stream",
     "text": [
      "23/03/27 22:57:20 WARN NativeCodeLoader: Unable to load native-hadoop library for your platform... using builtin-java classes where applicable\n"
     ]
    }
   ],
   "source": [
    "spark=SparkSession.builder.\\\n",
    "      master(\"local[*]\").\\\n",
    "      appName(\"test\").\\\n",
    "     getOrCreate()"
   ]
  },
  {
   "cell_type": "code",
   "execution_count": 3,
   "id": "910ca531",
   "metadata": {},
   "outputs": [],
   "source": [
    "from pyspark.sql import types"
   ]
  },
  {
   "cell_type": "code",
   "execution_count": 4,
   "id": "d5721f0f",
   "metadata": {},
   "outputs": [],
   "source": [
    "schema=types.StructType([types.StructField('id', types.IntegerType(), True),\\\n",
    "            types.StructField('dispatching_base_num', types.StringType(), True),\\\n",
    "            types.StructField('pickup_datetime', types.TimestampType(), True),\\\n",
    "            types.StructField('dropOff_datetime', types.TimestampType(), True),\\\n",
    "            types.StructField('PUlocationID', types.DoubleType(), True),\\\n",
    "            types.StructField('DOlocationID', types.DoubleType(), True),\\\n",
    "            types.StructField('SR_Flag', types.StringType(), True),\\\n",
    "            types.StructField('Affiliated_base_number', types.StringType(), True)])"
   ]
  },
  {
   "cell_type": "code",
   "execution_count": 5,
   "id": "373b34ac",
   "metadata": {},
   "outputs": [],
   "source": [
    "df=spark.read.option(\"header\",\"true\")\\\n",
    ".schema(schema)\\\n",
    ".csv(\"fhv_tripdata_2021-02.csv\")"
   ]
  },
  {
   "cell_type": "code",
   "execution_count": 6,
   "id": "a2a23211",
   "metadata": {},
   "outputs": [
    {
     "name": "stdout",
     "output_type": "stream",
     "text": [
      "root\n",
      " |-- id: integer (nullable = true)\n",
      " |-- dispatching_base_num: string (nullable = true)\n",
      " |-- pickup_datetime: timestamp (nullable = true)\n",
      " |-- dropOff_datetime: timestamp (nullable = true)\n",
      " |-- PUlocationID: double (nullable = true)\n",
      " |-- DOlocationID: double (nullable = true)\n",
      " |-- SR_Flag: string (nullable = true)\n",
      " |-- Affiliated_base_number: string (nullable = true)\n",
      "\n"
     ]
    }
   ],
   "source": [
    "df.printSchema()"
   ]
  },
  {
   "cell_type": "code",
   "execution_count": 7,
   "id": "dacf98dc",
   "metadata": {},
   "outputs": [
    {
     "name": "stdout",
     "output_type": "stream",
     "text": [
      "23/03/27 22:57:38 WARN CSVHeaderChecker: CSV header does not conform to the schema.\n",
      " Header: , dispatching_base_num, pickup_datetime, dropOff_datetime, PUlocationID, DOlocationID, SR_Flag, Affiliated_base_number\n",
      " Schema: id, dispatching_base_num, pickup_datetime, dropOff_datetime, PUlocationID, DOlocationID, SR_Flag, Affiliated_base_number\n",
      "Expected: id but found: \n",
      "CSV file: file:///home/smarteez/Desktop/abdennour/data_talks/data-engineering-zoomcamp/week_5_spark_processing/fhv_tripdata_2021-02.csv\n",
      "+---+--------------------+-------------------+-------------------+------------+------------+-------+----------------------+\n",
      "| id|dispatching_base_num|    pickup_datetime|   dropOff_datetime|PUlocationID|DOlocationID|SR_Flag|Affiliated_base_number|\n",
      "+---+--------------------+-------------------+-------------------+------------+------------+-------+----------------------+\n",
      "|  0|              B00013|2021-02-01 00:01:00|2021-02-01 01:33:00|        null|        null|   null|                B00014|\n",
      "|  1|     B00021         |2021-02-01 00:55:40|2021-02-01 01:06:20|       173.0|        82.0|   null|       B00021         |\n",
      "|  2|     B00021         |2021-02-01 00:14:03|2021-02-01 00:28:37|       173.0|        56.0|   null|       B00021         |\n",
      "|  3|     B00021         |2021-02-01 00:27:48|2021-02-01 00:35:45|        82.0|       129.0|   null|       B00021         |\n",
      "|  4|              B00037|2021-02-01 00:12:50|2021-02-01 00:26:38|        null|       225.0|   null|                B00037|\n",
      "|  5|              B00037|2021-02-01 00:00:37|2021-02-01 00:09:35|        null|        61.0|   null|                B00037|\n",
      "|  6|              B00112|2021-02-01 00:30:25|2021-02-01 00:57:23|        null|        26.0|   null|                B00112|\n",
      "|  7|              B00149|2021-02-01 00:43:16|2021-02-01 01:03:16|        null|        72.0|   null|                B00149|\n",
      "|  8|              B00221|2021-02-01 00:20:45|2021-02-01 00:21:15|        null|       244.0|   null|                B00221|\n",
      "|  9|              B00225|2021-02-01 00:23:27|2021-02-01 00:55:46|        null|       169.0|   null|                B00225|\n",
      "| 10|              B00225|2021-02-01 00:10:38|2021-02-01 00:50:15|        null|       161.0|   null|                B02872|\n",
      "| 11|              B00254|2021-02-01 00:05:46|2021-02-01 00:40:41|        13.0|       182.0|   null|                B00254|\n",
      "| 12|              B00254|2021-02-01 00:14:25|2021-02-01 00:24:56|       152.0|       244.0|   null|                B02872|\n",
      "| 13|              B00256|2021-02-01 00:30:43|2021-02-01 01:32:39|        null|        null|   null|                B00256|\n",
      "| 14|              B00256|2021-02-01 00:39:11|2021-02-01 01:18:44|        null|        null|   null|                B00256|\n",
      "| 15|              B00256|2021-02-01 00:33:24|2021-02-01 01:23:44|        null|        null|   null|                B00256|\n",
      "| 16|              B00256|2021-02-01 00:05:19|2021-02-01 00:24:40|        null|        null|   null|                B00256|\n",
      "| 17|              B00271|2021-02-01 00:04:07|2021-02-01 01:03:03|        null|       265.0|   null|                B00271|\n",
      "| 18|              B00271|2021-02-01 00:07:13|2021-02-01 00:08:49|        null|       237.0|   null|                B00271|\n",
      "| 19|              B00310|2021-02-01 00:11:21|2021-02-01 00:15:44|        null|       248.0|   null|                B00310|\n",
      "+---+--------------------+-------------------+-------------------+------------+------------+-------+----------------------+\n",
      "only showing top 20 rows\n",
      "\n"
     ]
    }
   ],
   "source": [
    "df.show()"
   ]
  },
  {
   "cell_type": "code",
   "execution_count": 8,
   "id": "27e21caf",
   "metadata": {},
   "outputs": [],
   "source": [
    "df=df.repartition(24)"
   ]
  },
  {
   "cell_type": "code",
   "execution_count": 9,
   "id": "20c51f83",
   "metadata": {},
   "outputs": [
    {
     "name": "stdout",
     "output_type": "stream",
     "text": [
      "23/03/27 22:57:40 WARN CSVHeaderChecker: CSV header does not conform to the schema.\n",
      " Header: , dispatching_base_num, pickup_datetime, dropOff_datetime, PUlocationID, DOlocationID, SR_Flag, Affiliated_base_number\n",
      " Schema: id, dispatching_base_num, pickup_datetime, dropOff_datetime, PUlocationID, DOlocationID, SR_Flag, Affiliated_base_number\n",
      "Expected: id but found: \n",
      "CSV file: file:///home/smarteez/Desktop/abdennour/data_talks/data-engineering-zoomcamp/week_5_spark_processing/fhv_tripdata_2021-02.csv\n"
     ]
    },
    {
     "name": "stderr",
     "output_type": "stream",
     "text": [
      "[Stage 3:>                                                         (0 + 8) / 24]\r"
     ]
    },
    {
     "name": "stdout",
     "output_type": "stream",
     "text": [
      "23/03/27 22:57:43 WARN MemoryManager: Total allocation exceeds 95.00% (1,020,054,720 bytes) of heap memory\n",
      "Scaling row group sizes to 95.00% for 8 writers\n"
     ]
    },
    {
     "name": "stderr",
     "output_type": "stream",
     "text": [
      "\r",
      "[Stage 3:===================>                                      (8 + 8) / 24]\r"
     ]
    },
    {
     "name": "stdout",
     "output_type": "stream",
     "text": [
      "23/03/27 22:57:44 WARN MemoryManager: Total allocation exceeds 95.00% (1,020,054,720 bytes) of heap memory\n",
      "Scaling row group sizes to 95.00% for 8 writers\n"
     ]
    },
    {
     "name": "stderr",
     "output_type": "stream",
     "text": [
      "\r",
      "[Stage 3:==============================>                          (13 + 8) / 24]\r",
      "\r",
      "[Stage 3:======================================>                  (16 + 8) / 24]\r"
     ]
    },
    {
     "name": "stdout",
     "output_type": "stream",
     "text": [
      "23/03/27 22:57:45 WARN MemoryManager: Total allocation exceeds 95.00% (1,020,054,720 bytes) of heap memory\n",
      "Scaling row group sizes to 95.00% for 8 writers\n"
     ]
    },
    {
     "name": "stderr",
     "output_type": "stream",
     "text": [
      "\r",
      "[Stage 3:==========================================>              (18 + 6) / 24]\r",
      "\r",
      "                                                                                \r"
     ]
    }
   ],
   "source": [
    "df.write.parquet(\"fhv/tripdata/2021/02/\",mode=\"overwrite\")"
   ]
  },
  {
   "cell_type": "code",
   "execution_count": 10,
   "id": "716636b5",
   "metadata": {},
   "outputs": [
    {
     "name": "stdout",
     "output_type": "stream",
     "text": [
      "04_pyspark.ipynb  fhv_tripdata_2021-02.csv\thead.csv\r\n",
      "fhv\t\t  fhv_tripdata_2021-02.parquet\r\n"
     ]
    }
   ],
   "source": [
    "!ls"
   ]
  },
  {
   "cell_type": "code",
   "execution_count": 11,
   "id": "b19ba039",
   "metadata": {},
   "outputs": [],
   "source": [
    "df=spark.read.parquet('fhv/tripdata/2021/02/')"
   ]
  },
  {
   "cell_type": "code",
   "execution_count": 12,
   "id": "62898379",
   "metadata": {},
   "outputs": [
    {
     "name": "stdout",
     "output_type": "stream",
     "text": [
      "+------+--------------------+-------------------+-------------------+------------+------------+-------+----------------------+\n",
      "|    id|dispatching_base_num|    pickup_datetime|   dropOff_datetime|PUlocationID|DOlocationID|SR_Flag|Affiliated_base_number|\n",
      "+------+--------------------+-------------------+-------------------+------------+------------+-------+----------------------+\n",
      "| 26386|              B01899|2021-02-02 15:40:44|2021-02-02 15:48:40|        null|        null|   null|                B01899|\n",
      "| 12545|              B01065|2021-02-02 07:16:03|2021-02-02 07:21:03|        null|        74.0|   null|                B01065|\n",
      "| 61256|              B01231|2021-02-03 14:07:06|2021-02-03 14:17:56|        null|       217.0|   null|                B02869|\n",
      "| 17422|              B02003|2021-02-02 10:30:00|2021-02-02 10:42:00|        null|        null|   null|                B02003|\n",
      "|123947|              B00856|2021-02-05 07:59:51|2021-02-05 08:16:52|        null|        89.0|   null|                B02876|\n",
      "|134197|              B01312|2021-02-05 10:59:50|2021-02-05 11:38:33|        null|        70.0|   null|                B02876|\n",
      "|122867|              B02133|2021-02-05 06:08:28|2021-02-05 07:02:26|        null|        null|   null|                B02877|\n",
      "| 63668|              B00900|2021-02-03 15:12:07|2021-02-03 15:26:42|        null|       258.0|   null|                B00900|\n",
      "| 16621|              B00821|2021-02-02 10:39:12|2021-02-02 11:13:31|        null|        76.0|   null|                B00821|\n",
      "| 98926|              B02735|2021-02-04 12:56:12|2021-02-04 13:04:31|        null|        81.0|   null|                B02800|\n",
      "| 12367|              B00310|2021-02-02 07:08:36|2021-02-02 07:20:59|        null|       168.0|   null|                B02887|\n",
      "| 46273|              B01233|2021-02-03 09:28:27|2021-02-03 09:45:06|        null|        32.0|   null|                B01233|\n",
      "|116964|              B00429|2021-02-04 22:23:00|2021-02-04 22:29:00|        null|        null|   null|                B00429|\n",
      "| 90762|              B00856|2021-02-04 10:39:01|2021-02-04 10:56:01|        null|        35.0|   null|                B03176|\n",
      "| 82139|              B01432|2021-02-04 07:31:01|2021-02-04 07:45:04|        null|        null|   null|                B01432|\n",
      "| 42022|              B03016|2021-02-03 07:03:30|2021-02-03 07:31:44|        null|       159.0|   null|                B02682|\n",
      "|125043|     B02279         |2021-02-05 07:18:50|2021-02-05 10:27:22|       206.0|       206.0|   null|       B02279         |\n",
      "| 44718|              B02881|2021-02-03 08:15:54|2021-02-03 09:04:09|       108.0|        86.0|   null|                B02881|\n",
      "| 21726|              B03231|2021-02-02 12:40:00|2021-02-02 13:15:45|        null|        null|   null|                B03231|\n",
      "|  1463|              B02881|2021-02-01 04:48:09|2021-02-01 05:03:23|       215.0|       135.0|   null|                B02881|\n",
      "+------+--------------------+-------------------+-------------------+------------+------------+-------+----------------------+\n",
      "only showing top 20 rows\n",
      "\n"
     ]
    }
   ],
   "source": [
    "df.show(20)"
   ]
  },
  {
   "cell_type": "code",
   "execution_count": 13,
   "id": "2a9cc661",
   "metadata": {},
   "outputs": [
    {
     "name": "stdout",
     "output_type": "stream",
     "text": [
      "root\n",
      " |-- id: integer (nullable = true)\n",
      " |-- dispatching_base_num: string (nullable = true)\n",
      " |-- pickup_datetime: timestamp (nullable = true)\n",
      " |-- dropOff_datetime: timestamp (nullable = true)\n",
      " |-- PUlocationID: double (nullable = true)\n",
      " |-- DOlocationID: double (nullable = true)\n",
      " |-- SR_Flag: string (nullable = true)\n",
      " |-- Affiliated_base_number: string (nullable = true)\n",
      "\n"
     ]
    }
   ],
   "source": [
    "df.printSchema()\n"
   ]
  },
  {
   "cell_type": "code",
   "execution_count": 14,
   "id": "1255f5f5",
   "metadata": {},
   "outputs": [
    {
     "name": "stdout",
     "output_type": "stream",
     "text": [
      "+--------------------+-------------------+-------------------+------------+------------+\n",
      "|dispatching_base_num|    pickup_datetime|   dropOff_datetime|PUlocationID|DOlocationID|\n",
      "+--------------------+-------------------+-------------------+------------+------------+\n",
      "|              B02881|2021-02-03 08:15:54|2021-02-03 09:04:09|       108.0|        86.0|\n",
      "|              B02881|2021-02-01 04:48:09|2021-02-01 05:03:23|       215.0|       135.0|\n",
      "|              B02881|2021-02-02 12:57:17|2021-02-02 13:11:41|       121.0|        92.0|\n",
      "|              B02881|2021-02-05 10:32:06|2021-02-05 10:46:33|        95.0|        95.0|\n",
      "|              B02881|2021-02-04 10:41:31|2021-02-04 11:11:37|       130.0|       196.0|\n",
      "|              B02881|2021-02-05 11:58:58|2021-02-05 12:42:19|       205.0|       166.0|\n",
      "|              B02881|2021-02-05 10:07:53|2021-02-05 10:26:42|        77.0|       102.0|\n",
      "|              B02881|2021-02-03 14:00:33|2021-02-03 14:25:20|       226.0|       134.0|\n",
      "|              B02881|2021-02-04 14:27:15|2021-02-04 14:44:11|       129.0|        56.0|\n",
      "|              B02881|2021-02-03 14:29:08|2021-02-03 15:12:49|       265.0|        86.0|\n",
      "|              B02881|2021-02-05 11:41:54|2021-02-05 12:03:46|       265.0|       205.0|\n",
      "|              B02881|2021-02-02 12:40:19|2021-02-02 13:14:24|        29.0|        92.0|\n",
      "|              B02881|2021-02-05 11:29:27|2021-02-05 11:46:02|       101.0|       218.0|\n",
      "|              B02881|2021-02-05 11:34:54|2021-02-05 11:48:04|        95.0|        19.0|\n",
      "|              B02881|2021-02-02 09:08:42|2021-02-02 09:31:47|       265.0|       265.0|\n",
      "|              B02881|2021-02-03 13:32:46|2021-02-03 14:32:29|       123.0|         7.0|\n",
      "|              B02881|2021-02-04 11:31:28|2021-02-04 12:26:21|       180.0|       236.0|\n",
      "|              B02881|2021-02-02 08:55:20|2021-02-02 09:04:15|       130.0|       130.0|\n",
      "|              B02881|2021-02-06 14:04:12|2021-02-06 14:12:40|        82.0|        82.0|\n",
      "|              B02881|2021-02-08 08:13:13|2021-02-08 08:29:04|        15.0|       129.0|\n",
      "|              B02881|2021-02-08 11:51:58|2021-02-08 12:12:12|       265.0|       219.0|\n",
      "|              B02881|2021-02-09 07:07:58|2021-02-09 07:44:52|       258.0|       141.0|\n",
      "|              B02881|2021-02-08 08:54:50|2021-02-08 09:14:22|        63.0|       130.0|\n",
      "|              B02881|2021-02-09 09:52:34|2021-02-09 10:25:23|        76.0|       149.0|\n",
      "|              B02881|2021-02-05 15:16:14|2021-02-05 15:35:55|       129.0|        56.0|\n",
      "|              B02881|2021-02-08 08:34:26|2021-02-08 08:40:45|        95.0|       196.0|\n",
      "|              B02881|2021-02-05 22:34:57|2021-02-05 23:08:39|        82.0|       265.0|\n",
      "|              B02881|2021-02-06 10:35:36|2021-02-06 10:57:39|        95.0|       258.0|\n",
      "|              B02881|2021-02-08 11:38:31|2021-02-08 11:52:27|       197.0|       218.0|\n",
      "|              B02881|2021-02-10 04:48:47|2021-02-10 05:02:06|       215.0|       121.0|\n",
      "|              B02881|2021-02-12 09:24:03|2021-02-12 09:51:40|        96.0|       210.0|\n",
      "|              B02881|2021-02-09 14:25:47|2021-02-09 14:48:56|       197.0|       191.0|\n",
      "|              B02881|2021-02-12 11:30:34|2021-02-12 12:03:41|       265.0|       218.0|\n",
      "|              B02881|2021-02-10 07:46:05|2021-02-10 08:15:15|       216.0|       265.0|\n",
      "|              B02881|2021-02-09 14:31:06|2021-02-09 14:50:36|       265.0|       139.0|\n",
      "|              B02881|2021-02-10 07:58:19|2021-02-10 08:14:10|       157.0|       129.0|\n",
      "|              B02881|2021-02-10 13:24:19|2021-02-10 13:37:53|       265.0|        86.0|\n",
      "|              B02881|2021-02-12 08:50:30|2021-02-12 08:57:47|       130.0|       130.0|\n",
      "|              B02881|2021-02-12 11:04:10|2021-02-12 11:59:22|       129.0|       117.0|\n",
      "|              B02881|2021-02-11 10:37:14|2021-02-11 10:55:35|       129.0|       226.0|\n",
      "|              B02881|2021-02-12 10:48:51|2021-02-12 11:32:59|        86.0|        29.0|\n",
      "|              B02881|2021-02-10 12:52:20|2021-02-10 13:08:00|       134.0|       218.0|\n",
      "|              B02881|2021-02-09 11:45:50|2021-02-09 11:58:51|       196.0|        95.0|\n",
      "|              B02881|2021-02-11 11:32:52|2021-02-11 11:54:32|       265.0|       205.0|\n",
      "|              B02881|2021-02-11 04:37:18|2021-02-11 05:25:22|       201.0|       226.0|\n",
      "|              B02881|2021-02-11 10:20:37|2021-02-11 10:36:24|        22.0|        55.0|\n",
      "|              B02881|2021-02-11 14:40:52|2021-02-11 14:46:08|       130.0|       130.0|\n",
      "|              B02881|2021-02-10 09:20:20|2021-02-10 10:07:16|       205.0|       107.0|\n",
      "|              B02881|2021-02-10 08:36:27|2021-02-10 09:14:44|        19.0|       161.0|\n",
      "|              B02881|2021-02-10 11:08:47|2021-02-10 12:00:24|       134.0|       140.0|\n",
      "+--------------------+-------------------+-------------------+------------+------------+\n",
      "only showing top 50 rows\n",
      "\n"
     ]
    }
   ],
   "source": [
    "df.select('dispatching_base_num','pickup_datetime','dropOff_datetime','PUlocationID','DOlocationID')\\\n",
    ".filter(df.dispatching_base_num=='B02881')\\\n",
    ".show(50)"
   ]
  },
  {
   "cell_type": "code",
   "execution_count": 19,
   "id": "c7b6d73f",
   "metadata": {},
   "outputs": [],
   "source": [
    "from pyspark.sql import functions as F"
   ]
  },
  {
   "cell_type": "code",
   "execution_count": 20,
   "id": "a7a71864",
   "metadata": {},
   "outputs": [],
   "source": [
    "def crazy_stuff(base_num):\n",
    "    num=int(base_num[1:])\n",
    "    if num%7==0:\n",
    "        return f's/{num:03x}'\n",
    "    else:\n",
    "        return f'e/{num:03x}'  "
   ]
  },
  {
   "cell_type": "code",
   "execution_count": 21,
   "id": "c6fdf6c7",
   "metadata": {},
   "outputs": [
    {
     "data": {
      "text/plain": [
       "'e/b41'"
      ]
     },
     "execution_count": 21,
     "metadata": {},
     "output_type": "execute_result"
    }
   ],
   "source": [
    "crazy_stuff(\"B02881\")"
   ]
  },
  {
   "cell_type": "code",
   "execution_count": 22,
   "id": "b15dfe4b",
   "metadata": {},
   "outputs": [],
   "source": [
    "crazy_stuff_udf=F.UserDefinedFunction(crazy_stuff)"
   ]
  },
  {
   "cell_type": "code",
   "execution_count": null,
   "id": "3cfc3e07",
   "metadata": {},
   "outputs": [],
   "source": []
  },
  {
   "cell_type": "code",
   "execution_count": 23,
   "id": "bccdcc07",
   "metadata": {},
   "outputs": [
    {
     "name": "stdout",
     "output_type": "stream",
     "text": [
      "+--------------------+-----------+------------+------------+------------+-------+\n",
      "|dispatching_base_num|pickup_date|dropOff_date|PUlocationID|DOlocationID|base_id|\n",
      "+--------------------+-----------+------------+------------+------------+-------+\n",
      "|              B01899| 2021-02-02|  2021-02-02|        null|        null|  e/76b|\n",
      "|              B01065| 2021-02-02|  2021-02-02|        null|        74.0|  e/429|\n",
      "|              B01231| 2021-02-03|  2021-02-03|        null|       217.0|  e/4cf|\n",
      "|              B02003| 2021-02-02|  2021-02-02|        null|        null|  e/7d3|\n",
      "|              B00856| 2021-02-05|  2021-02-05|        null|        89.0|  e/358|\n",
      "|              B01312| 2021-02-05|  2021-02-05|        null|        70.0|  e/520|\n",
      "|              B02133| 2021-02-05|  2021-02-05|        null|        null|  e/855|\n",
      "|              B00900| 2021-02-03|  2021-02-03|        null|       258.0|  e/384|\n",
      "|              B00821| 2021-02-02|  2021-02-02|        null|        76.0|  e/335|\n",
      "|              B02735| 2021-02-04|  2021-02-04|        null|        81.0|  e/aaf|\n",
      "|              B00310| 2021-02-02|  2021-02-02|        null|       168.0|  e/136|\n",
      "|              B01233| 2021-02-03|  2021-02-03|        null|        32.0|  e/4d1|\n",
      "|              B00429| 2021-02-04|  2021-02-04|        null|        null|  e/1ad|\n",
      "|              B00856| 2021-02-04|  2021-02-04|        null|        35.0|  e/358|\n",
      "|              B01432| 2021-02-04|  2021-02-04|        null|        null|  e/598|\n",
      "|              B03016| 2021-02-03|  2021-02-03|        null|       159.0|  e/bc8|\n",
      "|     B02279         | 2021-02-05|  2021-02-05|       206.0|       206.0|  e/8e7|\n",
      "|              B02881| 2021-02-03|  2021-02-03|       108.0|        86.0|  e/b41|\n",
      "|              B03231| 2021-02-02|  2021-02-02|        null|        null|  e/c9f|\n",
      "|              B02881| 2021-02-01|  2021-02-01|       215.0|       135.0|  e/b41|\n",
      "+--------------------+-----------+------------+------------+------------+-------+\n",
      "only showing top 20 rows\n",
      "\n"
     ]
    }
   ],
   "source": [
    "df.withColumn(\"pickup_date\",F.to_date(df.pickup_datetime))\\\n",
    "  .withColumn(\"dropOff_date\",F.to_date(df.dropOff_datetime))\\\n",
    "  .withColumn(\"base_id\",crazy_stuff_udf(df.dispatching_base_num))\\\n",
    "  .select('dispatching_base_num','pickup_date','dropOff_date','PUlocationID','DOlocationID','base_id')\\\n",
    "  .show()"
   ]
  },
  {
   "cell_type": "code",
   "execution_count": null,
   "id": "528fe759",
   "metadata": {},
   "outputs": [],
   "source": []
  }
 ],
 "metadata": {
  "kernelspec": {
   "display_name": "Python 3 (ipykernel)",
   "language": "python",
   "name": "python3"
  },
  "language_info": {
   "codemirror_mode": {
    "name": "ipython",
    "version": 3
   },
   "file_extension": ".py",
   "mimetype": "text/x-python",
   "name": "python",
   "nbconvert_exporter": "python",
   "pygments_lexer": "ipython3",
   "version": "3.9.13"
  }
 },
 "nbformat": 4,
 "nbformat_minor": 5
}
